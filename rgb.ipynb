{
 "cells": [
  {
   "cell_type": "code",
   "execution_count": null,
   "id": "a4057076",
   "metadata": {},
   "outputs": [
    {
     "name": "stdout",
     "output_type": "stream",
     "text": [
      "Requirement already satisfied: buildozer in c:\\users\\lenovo\\appdata\\local\\programs\\python\\python312\\lib\\site-packages (1.5.0)\n",
      "Requirement already satisfied: pexpect in c:\\users\\lenovo\\appdata\\local\\programs\\python\\python312\\lib\\site-packages (from buildozer) (4.9.0)\n",
      "Requirement already satisfied: virtualenv in c:\\users\\lenovo\\appdata\\local\\programs\\python\\python312\\lib\\site-packages (from buildozer) (20.26.4)\n",
      "Requirement already satisfied: sh in c:\\users\\lenovo\\appdata\\local\\programs\\python\\python312\\lib\\site-packages (from buildozer) (2.2.2)\n",
      "Requirement already satisfied: ptyprocess>=0.5 in c:\\users\\lenovo\\appdata\\local\\programs\\python\\python312\\lib\\site-packages (from pexpect->buildozer) (0.7.0)\n",
      "Requirement already satisfied: distlib<1,>=0.3.7 in c:\\users\\lenovo\\appdata\\local\\programs\\python\\python312\\lib\\site-packages (from virtualenv->buildozer) (0.3.8)\n",
      "Requirement already satisfied: filelock<4,>=3.12.2 in c:\\users\\lenovo\\appdata\\local\\programs\\python\\python312\\lib\\site-packages (from virtualenv->buildozer) (3.15.4)\n",
      "Requirement already satisfied: platformdirs<5,>=3.9.1 in c:\\users\\lenovo\\appdata\\local\\programs\\python\\python312\\lib\\site-packages (from virtualenv->buildozer) (4.3.3)\n",
      "Note: you may need to restart the kernel to use updated packages.\n"
     ]
    }
   ],
   "source": [
    "!pip install buildozer"
   ]
  }
 ],
 "metadata": {
  "kernelspec": {
   "display_name": "Python 3",
   "language": "python",
   "name": "python3"
  },
  "language_info": {
   "codemirror_mode": {
    "name": "ipython",
    "version": 3
   },
   "file_extension": ".py",
   "mimetype": "text/x-python",
   "name": "python",
   "nbconvert_exporter": "python",
   "pygments_lexer": "ipython3",
   "version": "3.12.5"
  }
 },
 "nbformat": 4,
 "nbformat_minor": 5
}
